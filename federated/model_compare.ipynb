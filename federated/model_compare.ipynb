{
 "cells": [
  {
   "cell_type": "code",
   "execution_count": 1,
   "metadata": {},
   "outputs": [
    {
     "ename": "ModuleNotFoundError",
     "evalue": "No module named 'keras'",
     "output_type": "error",
     "traceback": [
      "\u001b[0;31m---------------------------------------------------------------------------\u001b[0m",
      "\u001b[0;31mModuleNotFoundError\u001b[0m                       Traceback (most recent call last)",
      "Cell \u001b[0;32mIn[1], line 1\u001b[0m\n\u001b[0;32m----> 1\u001b[0m \u001b[39mfrom\u001b[39;00m \u001b[39mmodel\u001b[39;00m \u001b[39mimport\u001b[39;00m lstm, bidirectional_lstm, gru\n\u001b[1;32m      2\u001b[0m \u001b[39mfrom\u001b[39;00m \u001b[39mutils\u001b[39;00m \u001b[39mimport\u001b[39;00m read_raw_dataset, select_features_name, read_chunk, train_with_data\n\u001b[1;32m      3\u001b[0m \u001b[39mfrom\u001b[39;00m \u001b[39mfed_algo\u001b[39;00m \u001b[39mimport\u001b[39;00m fed_avg\n",
      "File \u001b[0;32m~/code/dao-fl/federated/model.py:1\u001b[0m\n\u001b[0;32m----> 1\u001b[0m \u001b[39mfrom\u001b[39;00m \u001b[39mkeras\u001b[39;00m \u001b[39mimport\u001b[39;00m Sequential\n\u001b[1;32m      2\u001b[0m \u001b[39mfrom\u001b[39;00m \u001b[39mkeras\u001b[39;00m\u001b[39m.\u001b[39;00m\u001b[39mlayers\u001b[39;00m \u001b[39mimport\u001b[39;00m LSTM, Dense, Dropout, Bidirectional, GRU\n\u001b[1;32m      3\u001b[0m \u001b[39mfrom\u001b[39;00m \u001b[39mkeras\u001b[39;00m\u001b[39m.\u001b[39;00m\u001b[39mmetrics\u001b[39;00m \u001b[39mimport\u001b[39;00m MeanSquaredError\n",
      "\u001b[0;31mModuleNotFoundError\u001b[0m: No module named 'keras'"
     ]
    }
   ],
   "source": [
    "from model import lstm, bidirectional_lstm, gru\n",
    "from utils import read_raw_dataset, select_features_name, read_chunk, train_with_data\n",
    "from fed_algo import fed_avg"
   ]
  },
  {
   "cell_type": "code",
   "execution_count": null,
   "metadata": {},
   "outputs": [],
   "source": [
    "X_raw, y = read_raw_dataset(\n",
    "    \"datasets/pokemon.csv\", index_col=\"id\", target_name=\"MOS\", drop=[\"user_id\"]\n",
    ")\n",
    "features = select_features_name(X_raw, y)\n",
    "X_test, y_test = read_chunk(\"pokemon\", \"-test\", features)\n",
    "X_init, y_init = read_chunk(\"pokemon\", \"-init\", features)\n",
    "result = {\n",
    "    \"num_clients\": [25, 50, 75, 100, 125, 150],\n",
    "    \"lstm\": [],\n",
    "    \"bidirectional\": [],\n",
    "    \"gru\": [],\n",
    "}"
   ]
  },
  {
   "cell_type": "code",
   "execution_count": null,
   "metadata": {},
   "outputs": [],
   "source": [
    "models = [lstm(), bidirectional_lstm(), gru()]\n",
    "models_name = [\"lstm\", \"bidirectional\", \"gru\"]\n",
    "for model in models:\n",
    "    train_with_data(model, model.get_weights(), (X_init, y_init))"
   ]
  },
  {
   "cell_type": "code",
   "execution_count": null,
   "metadata": {},
   "outputs": [],
   "source": [
    "num_clients = [25, 50, 75, 100, 125, 150]\n",
    "\n",
    "for num_client in num_clients:\n",
    "    datasets = [\n",
    "        read_chunk(\"pokemon\", chunk_id + 1 + num_client - 25, features)\n",
    "        for chunk_id in range(25)\n",
    "    ]\n",
    "\n",
    "    for name, model in zip(models_name, models):\n",
    "        old_weights = model.get_weights()\n",
    "        local_models = [\n",
    "            train_with_data(model, old_weights, dataset) for dataset in datasets\n",
    "        ]\n",
    "        new_weights = fed_avg(local_models)\n",
    "        model.set_weights(new_weights)\n",
    "        result[name].append(model.evaluate(X_test, y_test)[0])"
   ]
  },
  {
   "cell_type": "code",
   "execution_count": null,
   "metadata": {},
   "outputs": [],
   "source": [
    "import json\n",
    "\n",
    "json_result = json.dumps(result, indent=4)\n",
    "print(json_result)"
   ]
  }
 ],
 "metadata": {
  "kernelspec": {
   "display_name": "Python 3",
   "language": "python",
   "name": "python3"
  },
  "language_info": {
   "codemirror_mode": {
    "name": "ipython",
    "version": 3
   },
   "file_extension": ".py",
   "mimetype": "text/x-python",
   "name": "python",
   "nbconvert_exporter": "python",
   "pygments_lexer": "ipython3",
   "version": "3.10.6"
  },
  "orig_nbformat": 4,
  "vscode": {
   "interpreter": {
    "hash": "916dbcbb3f70747c44a77c7bcd40155683ae19c65e1c03b4aa3499c5328201f1"
   }
  }
 },
 "nbformat": 4,
 "nbformat_minor": 2
}
